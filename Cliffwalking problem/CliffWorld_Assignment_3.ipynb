{
 "cells": [
  {
   "cell_type": "markdown",
   "id": "fD6TvJs03LLm",
   "metadata": {
    "id": "fD6TvJs03LLm"
   },
   "source": [
    "EE675A: Assignment 3 \n",
    "\n",
    "Part 1: SARSA  (Deadline: 26th March 2023)\n",
    "\n",
    "Part 2: Q-Learning  (Deadline: 30th March 2023)\n",
    "\n",
    "\n"
   ]
  },
  {
   "cell_type": "markdown",
   "id": "b199bd11-af1e-431e-80d9-0a230bfe4fc9",
   "metadata": {
    "id": "b199bd11-af1e-431e-80d9-0a230bfe4fc9"
   },
   "source": [
    "# Cliff Walking \n",
    "\n",
    "Through this gridworld exercise we will compare Sarsa and Q-learning algorithms, highlighting the difference between them. Consider the gridworld shown in the Figure below. This is a standard undiscounted, episodic task, with start and goal states, and the usual actions causing movement up, down, right, and left. Reward is −1 on all transitions except those into the the region marked “The Cliff.” Stepping into this region incurs a reward of −100 and sends the agent instantly back to the start.\n",
    "\n",
    "There are totally 48 states numbered from 0 to 47\n",
    "\n",
    "<img src='cliff_walking.png' width=\"600\" align=\"left\"></img> \n",
    "\n"
   ]
  },
  {
   "cell_type": "code",
   "execution_count": 1,
   "id": "a308826d",
   "metadata": {
    "scrolled": true
   },
   "outputs": [
    {
     "name": "stdout",
     "output_type": "stream",
     "text": [
      "Requirement already satisfied: gym==0.21.0 in /opt/homebrew/anaconda3/lib/python3.9/site-packages (0.21.0)\n",
      "Requirement already satisfied: cloudpickle>=1.2.0 in /opt/homebrew/anaconda3/lib/python3.9/site-packages (from gym==0.21.0) (2.0.0)\n",
      "Requirement already satisfied: numpy>=1.18.0 in /opt/homebrew/anaconda3/lib/python3.9/site-packages (from gym==0.21.0) (1.21.5)\n",
      "Note: you may need to restart the kernel to use updated packages.\n"
     ]
    }
   ],
   "source": [
    "pip install gym==0.21.0\n"
   ]
  },
  {
   "cell_type": "code",
   "execution_count": 5,
   "id": "2a28bf5c",
   "metadata": {
    "scrolled": false
   },
   "outputs": [
    {
     "data": {
      "text/plain": [
       "'0.21.0'"
      ]
     },
     "execution_count": 5,
     "metadata": {},
     "output_type": "execute_result"
    }
   ],
   "source": [
    "gym.__version__"
   ]
  },
  {
   "cell_type": "code",
   "execution_count": 7,
   "id": "mxfOaajLebI6",
   "metadata": {
    "id": "mxfOaajLebI6"
   },
   "outputs": [
    {
     "ename": "ModuleNotFoundError",
     "evalue": "No module named 'cliff_walking'",
     "output_type": "error",
     "traceback": [
      "\u001b[0;31m---------------------------------------------------------------------------\u001b[0m",
      "\u001b[0;31mModuleNotFoundError\u001b[0m                       Traceback (most recent call last)",
      "Input \u001b[0;32mIn [7]\u001b[0m, in \u001b[0;36m<cell line: 15>\u001b[0;34m()\u001b[0m\n\u001b[1;32m     12\u001b[0m matplotlib\u001b[38;5;241m.\u001b[39mstyle\u001b[38;5;241m.\u001b[39muse(\u001b[38;5;124m'\u001b[39m\u001b[38;5;124mggplot\u001b[39m\u001b[38;5;124m'\u001b[39m)\n\u001b[1;32m     14\u001b[0m \u001b[38;5;66;03m# The environment class is already created for you. You have to just import it as follows.\u001b[39;00m\n\u001b[0;32m---> 15\u001b[0m \u001b[38;5;28;01mfrom\u001b[39;00m \u001b[38;5;21;01mcliff_walking\u001b[39;00m \u001b[38;5;28;01mimport\u001b[39;00m CliffWalkingEnv\n",
      "\u001b[0;31mModuleNotFoundError\u001b[0m: No module named 'cliff_walking'"
     ]
    }
   ],
   "source": [
    "# Imports\n",
    "%matplotlib inline\n",
    "\n",
    "import gym\n",
    "import itertools\n",
    "import matplotlib\n",
    "import numpy as np\n",
    "import pandas as pd\n",
    "import sys\n",
    "from matplotlib import pyplot as plt\n",
    "from collections import defaultdict\n",
    "matplotlib.style.use('ggplot')\n",
    "\n",
    "# The environment class is already created for you. You have to just import it as follows.\n",
    "from cliff_walking import CliffWalkingEnv\n",
    "#env=gym.make('CliffWalking-v0')\n"
   ]
  },
  {
   "cell_type": "code",
   "execution_count": 8,
   "id": "8aw2PLF1fkcG",
   "metadata": {
    "colab": {
     "base_uri": "https://localhost:8080/"
    },
    "id": "8aw2PLF1fkcG",
    "outputId": "25085a7f-0746-4baf-8790-67901f07cc6b"
   },
   "outputs": [
    {
     "ename": "NameError",
     "evalue": "name 'CliffWalkingEnv' is not defined",
     "output_type": "error",
     "traceback": [
      "\u001b[0;31m---------------------------------------------------------------------------\u001b[0m",
      "\u001b[0;31mNameError\u001b[0m                                 Traceback (most recent call last)",
      "Input \u001b[0;32mIn [8]\u001b[0m, in \u001b[0;36m<cell line: 2>\u001b[0;34m()\u001b[0m\n\u001b[1;32m      1\u001b[0m \u001b[38;5;66;03m# Create environment\u001b[39;00m\n\u001b[0;32m----> 2\u001b[0m env \u001b[38;5;241m=\u001b[39m \u001b[43mCliffWalkingEnv\u001b[49m()\n\u001b[1;32m      4\u001b[0m env\u001b[38;5;241m.\u001b[39mrender()\n",
      "\u001b[0;31mNameError\u001b[0m: name 'CliffWalkingEnv' is not defined"
     ]
    }
   ],
   "source": [
    "# Create environment\n",
    "env = CliffWalkingEnv()\n",
    "\n",
    "env.render()  \n",
    "# Render is to see where we are in the environment\n",
    "# \"x\" represents our current position in the grid\n",
    "# \"C\" represents a cliff cell\n",
    "# \"T\" is the target (Goal) cell\n",
    "# \"o\" all the other cells\n"
   ]
  },
  {
   "cell_type": "code",
   "execution_count": 9,
   "id": "LJRzERAip4mY",
   "metadata": {
    "colab": {
     "base_uri": "https://localhost:8080/"
    },
    "id": "LJRzERAip4mY",
    "outputId": "9b366d52-07a4-4686-b974-be21a4df0655"
   },
   "outputs": [
    {
     "ename": "NameError",
     "evalue": "name 'env' is not defined",
     "output_type": "error",
     "traceback": [
      "\u001b[0;31m---------------------------------------------------------------------------\u001b[0m",
      "\u001b[0;31mNameError\u001b[0m                                 Traceback (most recent call last)",
      "Input \u001b[0;32mIn [9]\u001b[0m, in \u001b[0;36m<cell line: 1>\u001b[0;34m()\u001b[0m\n\u001b[0;32m----> 1\u001b[0m l \u001b[38;5;241m=\u001b[39m \u001b[43menv\u001b[49m\u001b[38;5;241m.\u001b[39mreset()\n",
      "\u001b[0;31mNameError\u001b[0m: name 'env' is not defined"
     ]
    }
   ],
   "source": [
    "l = env.reset()\n",
    "#env.step(0)"
   ]
  },
  {
   "cell_type": "code",
   "execution_count": 41,
   "id": "7f6dacb8",
   "metadata": {},
   "outputs": [
    {
     "name": "stdout",
     "output_type": "stream",
     "text": [
      "o  o  o  o  o  o  o  o  o  o  o  o\n",
      "o  o  o  o  o  o  o  o  o  o  o  o\n",
      "o  o  o  o  o  o  o  o  o  o  o  o\n",
      "x  C  C  C  C  C  C  C  C  C  C  T\n",
      "\n"
     ]
    }
   ],
   "source": [
    "env.render()"
   ]
  },
  {
   "cell_type": "code",
   "execution_count": 42,
   "id": "ff53716f",
   "metadata": {},
   "outputs": [
    {
     "data": {
      "text/plain": [
       "(36, -1, False, {'prob': 1.0})"
      ]
     },
     "execution_count": 42,
     "metadata": {},
     "output_type": "execute_result"
    }
   ],
   "source": [
    "env.step(2)"
   ]
  },
  {
   "cell_type": "code",
   "execution_count": 43,
   "id": "90cea5d3",
   "metadata": {},
   "outputs": [
    {
     "name": "stdout",
     "output_type": "stream",
     "text": [
      "o  o  o  o  o  o  o  o  o  o  o  o\n",
      "o  o  o  o  o  o  o  o  o  o  o  o\n",
      "o  o  o  o  o  o  o  o  o  o  o  o\n",
      "x  C  C  C  C  C  C  C  C  C  C  T\n",
      "\n"
     ]
    }
   ],
   "source": [
    "env.render()"
   ]
  },
  {
   "cell_type": "code",
   "execution_count": 44,
   "id": "yX0i-19BfpzM",
   "metadata": {
    "colab": {
     "base_uri": "https://localhost:8080/"
    },
    "id": "yX0i-19BfpzM",
    "outputId": "289d8fe9-84d3-487b-fe1a-d64a8facba17"
   },
   "outputs": [
    {
     "name": "stdout",
     "output_type": "stream",
     "text": [
      "We started here\n",
      "o  o  o  o  o  o  o  o  o  o  o  o\n",
      "o  o  o  o  o  o  o  o  o  o  o  o\n",
      "o  o  o  o  o  o  o  o  o  o  o  o\n",
      "x  C  C  C  C  C  C  C  C  C  C  T\n",
      "\n",
      "Let us take UP action\n",
      "o  o  o  o  o  o  o  o  o  o  o  o\n",
      "o  o  o  o  o  o  o  o  o  o  o  o\n",
      "x  o  o  o  o  o  o  o  o  o  o  o\n",
      "o  C  C  C  C  C  C  C  C  C  C  T\n",
      "\n",
      "Another UP action\n",
      "o  o  o  o  o  o  o  o  o  o  o  o\n",
      "x  o  o  o  o  o  o  o  o  o  o  o\n",
      "o  o  o  o  o  o  o  o  o  o  o  o\n",
      "o  C  C  C  C  C  C  C  C  C  C  T\n",
      "\n",
      "Two Right actions\n",
      "o  o  o  o  o  o  o  o  o  o  o  o\n",
      "o  o  x  o  o  o  o  o  o  o  o  o\n",
      "o  o  o  o  o  o  o  o  o  o  o  o\n",
      "o  C  C  C  C  C  C  C  C  C  C  T\n",
      "\n",
      "One Left action\n",
      "o  o  o  o  o  o  o  o  o  o  o  o\n",
      "o  x  o  o  o  o  o  o  o  o  o  o\n",
      "o  o  o  o  o  o  o  o  o  o  o  o\n",
      "o  C  C  C  C  C  C  C  C  C  C  T\n",
      "\n"
     ]
    }
   ],
   "source": [
    "# Allowed Actions\n",
    "# 0 => UP\n",
    "# 1 => Right\n",
    "# 2 => Down\n",
    "# 3 => Left\n",
    "\n",
    "\n",
    "# Let us take a few actions and get familiar with the environment\n",
    "print('We started here')\n",
    "env.reset()\n",
    "env.render()\n",
    "\n",
    "# Let us take up first\n",
    "print('Let us take UP action')\n",
    "env.step(0)\n",
    "env.render()\n",
    "\n",
    "# Now lets take another UP\n",
    "print('Another UP action')\n",
    "env.step(0)\n",
    "env.render()\n",
    "\n",
    "# Now lets take two rights\n",
    "print('Two Right actions')\n",
    "env.step(1)\n",
    "env.step(1)\n",
    "env.render()\n",
    "\n",
    "# Now one left\n",
    "print('One Left action')\n",
    "env.step(3)\n",
    "env.render()"
   ]
  },
  {
   "cell_type": "code",
   "execution_count": 45,
   "id": "vZB7clUFYxFq",
   "metadata": {
    "id": "vZB7clUFYxFq"
   },
   "outputs": [],
   "source": [
    "# A helper function for plotting the comparision graphs between two or more algorithms. \n",
    "# You need not understand this code.\n",
    "# Just look at the next cell to understand how to use it.\n",
    "\n",
    "\n",
    "def plot_episode_reward(a, stats, smoothing_window=10, noshow=False):\n",
    "    # Plot the episode reward over time\n",
    "    fig2 = plt.figure(figsize=(10,5))\n",
    "    for stat in stats:\n",
    "        rewards_smoothed = pd.Series(stat).rolling(smoothing_window, min_periods=smoothing_window).mean()\n",
    "        plt.plot(rewards_smoothed)\n",
    "    plt.xlabel(\"Episode\")\n",
    "    plt.ylabel(\"Episode Reward (Smoothed)\")\n",
    "    plt.title(\"Episode Reward over Time (Smoothed over window size {})\".format(smoothing_window))\n",
    "    plt.legend(a)\n",
    "    if noshow:\n",
    "        plt.close(fig2)\n",
    "    else:\n",
    "        plt.show(fig2)"
   ]
  },
  {
   "cell_type": "code",
   "execution_count": 46,
   "id": "oYM5MErceWe8",
   "metadata": {
    "colab": {
     "base_uri": "https://localhost:8080/",
     "height": 691
    },
    "id": "oYM5MErceWe8",
    "outputId": "c640fd78-54a9-42fb-cfcd-604a035deeea"
   },
   "outputs": [
    {
     "data": {
      "image/png": "[encoded data removed]",
      "text/plain": [
       "<Figure size 720x360 with 1 Axes>"
      ]
     },
     "metadata": {},
     "output_type": "display_data"
    }
   ],
   "source": [
    "#Demo for using Plotting helper function\n",
    "#Here we are comparing two algorithms which were run for 3 episodes each. \n",
    "\n",
    "stats_algo1= [10,12,4]    #The return obtained in each episode for Algo1\n",
    "stats_algo2= [-1,12,90]    #The return obtained in each episode for Algo2\n",
    "\n",
    "#Plotting the comparision\n",
    "#Here the last argument is to smoothen the plot. Use higher values such as 10 for smooth plots.\n",
    "\n",
    "plot_episode_reward(['Algo1','Algo2'],[stats_algo1,stats_algo2],smoothing_window=1)  "
   ]
  },
  {
   "cell_type": "markdown",
   "id": "04383be5-262d-4ba3-95b5-e64101737ced",
   "metadata": {
    "id": "04383be5-262d-4ba3-95b5-e64101737ced"
   },
   "source": [
    "### Epsilon-greedy policy from Q-function and epsilon\n",
    "\n",
    "Helper function to create epsilon-greedy policy based on a given Q-function and epsilon."
   ]
  },
  {
   "cell_type": "code",
   "execution_count": 47,
   "id": "4f71f0b9-5cc0-457d-97e7-68c38e787eac",
   "metadata": {
    "id": "4f71f0b9-5cc0-457d-97e7-68c38e787eac"
   },
   "outputs": [],
   "source": [
    "def make_epsilon_greedy_policy(Q, epsilon, nA):\n",
    "    \"\"\"\n",
    "    Creates an epsilon-greedy policy based on a given Q-function and epsilon.\n",
    "    \n",
    "    Args:\n",
    "        Q: A dictionary that maps from state -> action-values.\n",
    "            Each value is a numpy array of length nA (see below)\n",
    "        epsilon: The probability to select a random action. Float between 0 and 1.\n",
    "        nA: Number of actions in the environment.\n",
    "    \n",
    "    Returns:\n",
    "        A function that takes the state/observation as an argument and returns\n",
    "        the probabilities for each action in the form of a numpy array of length nA.\n",
    "    \n",
    "    \"\"\"\n",
    "    def policy_fn(observation):\n",
    "        A = np.ones(nA, dtype=float) * epsilon / nA\n",
    "        best_action = np.argmax(Q[observation])\n",
    "        A[best_action] += (1.0 - epsilon)\n",
    "        return A\n",
    "    return policy_fn"
   ]
  },
  {
   "cell_type": "code",
   "execution_count": 48,
   "id": "S1aEK0ULiMId",
   "metadata": {
    "colab": {
     "base_uri": "https://localhost:8080/"
    },
    "id": "S1aEK0ULiMId",
    "outputId": "326212f6-62b7-4081-b75e-b262a1b7bba6"
   },
   "outputs": [
    {
     "name": "stdout",
     "output_type": "stream",
     "text": [
      "The epsilon-greedy policy at state s1 is  [0.1 0.1 0.8]\n",
      "The epsilon-greedy policy at state s2 is  [0.1 0.8 0.1]\n",
      "1\n"
     ]
    }
   ],
   "source": [
    "# How to use make_epsilon-greedy_policy function\n",
    "# consider two states s1, s2 and 3 actions {0,1,2} in each state\n",
    "\n",
    "Q={1:[0.5, 2, 3], 2:[-0.1, 4 , 3]}  # A sample Q-function Q(s,a) for each state-action pair\n",
    "\n",
    "# For this example it is clear that for state s1, action 2 is the greedy action.\n",
    "# For state s2, action 1 is the greedy action\n",
    "\n",
    "\"\"\"\n",
    "If we want an epsilon greedy policy with epsilon=0.3, then the best action\n",
    "should get a probility = 0.7 + 0.3/3 = 0.8\n",
    "other action with probability = 0.3/3 = 0.1\n",
    "\n",
    "\"\"\"\n",
    "\n",
    "# Let us verify this using our make_epsilon-greedy_policy function\n",
    "\n",
    "policy_fn = make_epsilon_greedy_policy(Q, epsilon=0.3, nA=3)\n",
    "\n",
    "print(\"The epsilon-greedy policy at state s1 is \", policy_fn(1))\n",
    "print(\"The epsilon-greedy policy at state s2 is \", policy_fn(2))\n",
    "print(np.argmax(policy_fn(2)))\n"
   ]
  },
  {
   "cell_type": "markdown",
   "id": "05ba0ef3-af67-45e0-959e-860ce2d15482",
   "metadata": {
    "id": "05ba0ef3-af67-45e0-959e-860ce2d15482"
   },
   "source": [
    "## 1. SARSA algorithm\n",
    "\n",
    "Implement the SARSA update to find the optimal action value function **[10 Marks]**"
   ]
  },
  {
   "cell_type": "code",
   "execution_count": 49,
   "id": "97e7224b",
   "metadata": {},
   "outputs": [],
   "source": [
    "import sys\n",
    "import random\n",
    "import numpy as np\n",
    "def weighted_choice(v, p):\n",
    "   total = sum(p)\n",
    "   r = random.uniform(0, total)\n",
    "   upto = 0\n",
    "   for c, w in zip(v,p):\n",
    "      if upto + w >= r:\n",
    "         return c\n",
    "      upto += w\n",
    "   assert False, \"Shouldn't get here\""
   ]
  },
  {
   "cell_type": "code",
   "execution_count": 50,
   "id": "f24cd60d-6411-40f1-8fdf-15cfcc13901a",
   "metadata": {
    "id": "f24cd60d-6411-40f1-8fdf-15cfcc13901a"
   },
   "outputs": [],
   "source": [
    "def sarsa(env, num_episodes, discount_factor=1.0, alpha=0.5, epsilon=0.1):\n",
    "    \"\"\"\n",
    "    SARSA algorithm: Finds the optimal epsilon-greedy policy.\n",
    "    \n",
    "    Args:\n",
    "        env: OpenAI environment.\n",
    "        num_episodes: Number of episodes to run for.\n",
    "        discount_factor: Gamma discount factor.\n",
    "        alpha: TD learning rate.\n",
    "        epsilon: Chance the sample a random action. Float betwen 0 and 1.\n",
    "        \n",
    "    \n",
    "    Returns:\n",
    "        A tuple (Q, stats).\n",
    "        Q is the optimal action-value function, a dictionary mapping state -> action values.\n",
    "        stats is a numpy array that stores the returns obtained in each episode\n",
    "        For example, if we have run for 2 episodes and the returns obtained are -10, -25,\n",
    "        stats=[-10,-25]\n",
    "\n",
    "    \"\"\"\n",
    "    \n",
    "    #Write your code here...#\n",
    "    #Write your code here...#\n",
    "    a = list(np.arange(0,48))\n",
    "    Q = {a[i]: [0,0,0,0] for i in range(len(a))}\n",
    "    states = list(Q.keys())\n",
    "    Actions = [0,1,2,3]\n",
    "    stats = np.zeros(episodes)\n",
    "    for j in range(episodes):\n",
    "        i = env.reset()\n",
    "        k = make_epsilon_greedy_policy(Q, epsilon, nA=4)\n",
    "        A = weighted_choice(Actions,k(i))\n",
    "        is_terminal = False\n",
    "        while not is_terminal:\n",
    "            next_state,reward,is_terminal,_ = env.step(A)\n",
    "            A_nxt = weighted_choice(Actions,k(next_state))\n",
    "            Q[i][A] = Q[i][A] + alpha*(reward + discount_factor*(Q[next_state][A_nxt])-Q[i][A])\n",
    "            i = next_state\n",
    "            A = A_nxt\n",
    "            stats[j]+=reward\n",
    "    pi = np.zeros(48)-1\n",
    "    Q_f = dict.fromkeys(a,0)\n",
    "    for s in states:\n",
    "        m = max(Q[s])\n",
    "        Q_f[s] = m\n",
    "        pi[s] = Q[s].index(m)\n",
    "    pi[47] = None\n",
    "    pi = pi.reshape([4,12])\n",
    "    print(\"\\n--------------SARSA algorithm---------------\\n\")\n",
    "    print(\"\\nOptimal policy is\\n 0->UP,1->RIGHT,2->DOWN,3->LEFT,-1->CLIFF\")\n",
    "    print(pi)\n",
    "    print(\"\\nOptimal Action value function is\")\n",
    "    print(Q_f)\n",
    "    return Q_f, stats"
   ]
  },
  {
   "cell_type": "code",
   "execution_count": 51,
   "id": "KDY63bvCrgiY",
   "metadata": {
    "id": "KDY63bvCrgiY"
   },
   "outputs": [
    {
     "name": "stdout",
     "output_type": "stream",
     "text": [
      "\n",
      "--------------SARSA algorithm---------------\n",
      "\n",
      "\n",
      "Optimal policy is\n",
      " 0->UP,1->RIGHT,2->DOWN,3->LEFT,-1->CLIFF\n",
      "[[ 1.  1.  1.  1.  1.  1.  1.  1.  1.  1.  1.  2.]\n",
      " [ 0.  0.  0.  3.  2.  3.  0.  1.  1.  0.  1.  2.]\n",
      " [ 0.  0.  1.  3.  1.  0.  0.  0.  0.  0.  1.  2.]\n",
      " [ 0.  0.  0.  0.  0.  0.  0.  0.  0.  0.  0. nan]]\n",
      "\n",
      "Optimal Action value function is\n",
      "{0: -14.863432737723002, 1: -13.806555046650132, 2: -13.514536102888137, 3: -12.20757408987362, 4: -11.334132849480056, 5: -9.970441506855831, 6: -9.451504447224334, 7: -7.669969602685829, 8: -6.520581845306053, 9: -5.383957018865891, 10: -4.278259101609565, 11: -3.134624151361749, 12: -16.15969722088664, 13: -15.47083746916176, 14: -14.129170166153983, 15: -12.836439472552795, 16: -12.216104969074154, 17: -10.23482836762446, 18: -9.744258697338665, 19: -8.60573601535464, 20: -6.405524602279076, 21: -6.585379110072675, 22: -3.4919046951736714, 23: -2.027372467069256, 24: -18.212779904994548, 25: -16.533762408654045, 26: -12.12940854876695, 27: -11.47476461137046, 28: -11.544713346418156, 29: -10.877984680888787, 30: -10.608473842481661, 31: -9.096875720904036, 32: -5.803029835224152, 33: -7.4351249609879835, 34: -2.391845160820705, 35: -1.0, 36: -19.39868034571193, 37: 0, 38: 0, 39: 0, 40: 0, 41: 0, 42: 0, 43: 0, 44: 0, 45: 0, 46: 0, 47: 0}\n"
     ]
    },
    {
     "data": {
      "image/png": "[encoded data removed]",
      "text/plain": [
       "<Figure size 720x360 with 1 Axes>"
      ]
     },
     "metadata": {},
     "output_type": "display_data"
    }
   ],
   "source": [
    "episodes = 200\n",
    "Q_sarsa, stats_sarsa = sarsa(env, episodes, epsilon=0.1)\n",
    "\n",
    "plot_episode_reward(['SARSA'],[stats_sarsa])"
   ]
  },
  {
   "cell_type": "markdown",
   "id": "c5a543c1-d188-4253-874f-a687e454c476",
   "metadata": {
    "id": "c5a543c1-d188-4253-874f-a687e454c476"
   },
   "source": [
    "## 2. Q-Learning algorithm\n",
    "\n",
    "Implement the Q-Learning update to find the optimal action value function **[10 Marks]**"
   ]
  },
  {
   "cell_type": "code",
   "execution_count": 52,
   "id": "23dd2e16-5271-4c9b-86ab-6ce27e7ef0ea",
   "metadata": {
    "id": "23dd2e16-5271-4c9b-86ab-6ce27e7ef0ea"
   },
   "outputs": [],
   "source": [
    "def q_learning(env, num_episodes, discount_factor=1.0, alpha=0.5, epsilon=0.1):\n",
    "    \"\"\"\n",
    "    Q-Learning algorithm: Finds the optimal greedy policy\n",
    "    while following an epsilon-greedy policy\n",
    "    \n",
    "    Args:\n",
    "        env: OpenAI environment.\n",
    "        num_episodes: Number of episodes to run for.\n",
    "        discount_factor: Gamma discount factor.\n",
    "        alpha: TD learning rate.\n",
    "        epsilon: Chance to sample a random action. Float between 0 and 1.\n",
    "    \n",
    "    Returns:\n",
    "        A tuple (Q, episode_lengths).\n",
    "        Q is the optimal action-value function, a dictionary mapping state -> action values.\n",
    "        stats is a numpy array that stores the return obtained in each episode\n",
    "    \"\"\"\n",
    "    \n",
    "    #Write your code here...#\n",
    "    #Write your code here...#\n",
    "    a = list(np.arange(0,48))\n",
    "    #a.append(47)\n",
    "    Q = {a[i]: [0,0,0,0] for i in range(len(a))}\n",
    "    states = list(Q.keys())\n",
    "    Actions = [0,1,2,3]\n",
    "    stats = np.zeros(episodes)\n",
    "    step = np.zeros(episodes)\n",
    "    for j in range(episodes):\n",
    "        i = env.reset()\n",
    "        k = make_epsilon_greedy_policy(Q, epsilon, nA=4)\n",
    "        is_terminal = False\n",
    "        while not is_terminal:\n",
    "            step[j] = step[j]+1\n",
    "            A = weighted_choice(Actions,k(i))\n",
    "            next_state,reward,is_terminal,_ = env.step(A)\n",
    "            all_nxtS=[]\n",
    "            for act in Actions:\n",
    "                all_nxtS.append(Q[next_state][act])\n",
    "                maxQ = max(all_nxtS)\n",
    "            Q[i][A] = Q[i][A] + alpha*(reward + discount_factor*(maxQ)-Q[i][A])\n",
    "            i = next_state\n",
    "            stats[j]+=reward\n",
    "    pi = np.zeros(48)-1\n",
    "    Q_f = dict.fromkeys(a,0)\n",
    "    for s in states:\n",
    "        m = max(Q[s])\n",
    "        Q_f[s] = m\n",
    "        pi[s] = Q[s].index(m)\n",
    "    pi[47] = None\n",
    "    pi = pi.reshape([4,12])\n",
    "    print(\"\\n--------------QLearning algorithm---------------\\n\")\n",
    "    print(\"\\nOptimal policy is\\n 0->UP,1->RIGHT,2->DOWN,3->LEFT,-1->CLIFF\")\n",
    "    print(pi)\n",
    "    print(\"\\nOptimal Action value function is\")\n",
    "    print(Q_f)\n",
    "    print(\"episode_lengths\",step)\n",
    "    return Q_f, stats, step"
   ]
  },
  {
   "cell_type": "markdown",
   "id": "5c36fae6-f5dd-44eb-884b-3af17c2b3215",
   "metadata": {
    "id": "5c36fae6-f5dd-44eb-884b-3af17c2b3215"
   },
   "source": [
    "### Running and Generating Plots"
   ]
  },
  {
   "cell_type": "code",
   "execution_count": 53,
   "id": "10c47078-9823-40b9-b6fc-6e5a3c7628fd",
   "metadata": {
    "id": "10c47078-9823-40b9-b6fc-6e5a3c7628fd"
   },
   "outputs": [
    {
     "name": "stdout",
     "output_type": "stream",
     "text": [
      "\n",
      "--------------QLearning algorithm---------------\n",
      "\n",
      "\n",
      "Optimal policy is\n",
      " 0->UP,1->RIGHT,2->DOWN,3->LEFT,-1->CLIFF\n",
      "[[ 1.  1.  0.  1.  3.  0.  1.  1.  1.  1.  3.  2.]\n",
      " [ 3.  2.  1.  1.  2.  1.  1.  2.  1.  2.  1.  2.]\n",
      " [ 1.  1.  1.  1.  1.  1.  1.  1.  1.  1.  1.  2.]\n",
      " [ 0.  0.  0.  0.  0.  0.  0.  0.  0.  0.  0. nan]]\n",
      "\n",
      "Optimal Action value function is\n",
      "{0: -11.711191117166237, 1: -11.16896865755217, 2: -10.408158922567964, 3: -9.699748889994225, 4: -8.945609629154205, 5: -8.061355590820312, 6: -7.245205119252205, 7: -6.424409069499234, 8: -5.548154211603105, 9: -4.758477164197856, 10: -3.8798828125, 11: -2.983365586487614, 12: -11.951247304677963, 13: -11.542152818482295, 14: -10.740742922205559, 15: -9.845860690369149, 16: -8.914211313517054, 17: -7.944961677686814, 18: -6.97706718323194, 19: -5.994841842822469, 20: -4.998675855990391, 21: -3.9995158693842465, 22: -2.9999229357752757, 23: -1.9999999044948673, 24: -12.0, 25: -11.0, 26: -10.0, 27: -9.0, 28: -8.0, 29: -7.0, 30: -6.0, 31: -5.0, 32: -4.0, 33: -3.0, 34: -2.0, 35: -1.0, 36: -13.0, 37: 0, 38: 0, 39: 0, 40: 0, 41: 0, 42: 0, 43: 0, 44: 0, 45: 0, 46: 0, 47: 0}\n",
      "episode_lengths [127. 617. 119. 153.  60. 117.  47.  90. 100.  48.  33.  25.  38.  31.\n",
      "  60.  32.  46.  29.  30.  47.  38.  46.  15.  22.  21.  57.  31.  19.\n",
      "  17.  29.  30.  17.  34.  20.  27.  20.  27.  24.  16.  20.  27.  17.\n",
      "  19.  14.  34.  24.  15.  23.  26.  28.  25.  33.  17.  31.  24.  15.\n",
      "  14.  23.  29.  26.  13.  15.  13.  13.  17.  13.  18.  17.  13.  13.\n",
      "  15.  13.  13.  15.  24.  19.  18.  15.  13.  13.  18.  18.  21.  15.\n",
      "  17.  15.  13.  13.  26.  13.  15.  13.  19.  13.  13.  24.  13.  13.\n",
      "  18.  19.  15.  17.  31.  17.  13.  28.  44.  25.  13.  15.  23.  17.\n",
      "  15.  17.  13.  19.  40.  27.  13.  15.  25.  14.  15.  28.  14.  13.\n",
      "  13.  13.  13.  13.  13.  27.  13.  16.  13.  13.  14.  15.  13.  15.\n",
      "  13.  13.  13.  71.  16.  13.  13.  33.  20.  18.  13.  17.  17.  14.\n",
      "  15.  28.  13.  18.  15.  16.  16.  13.  15.  15.  19.  19.  29.  13.\n",
      "  13.  15.  13.  13.  15.  20.  15.  19.  13.  13.  13.  19.  17.  14.\n",
      "  23.  21.  13.  17.  17.  15.  20.  13.  13.  13.  15.  13.  15.  13.\n",
      "  13.  17.  24.  13.]\n",
      "\n",
      "--------------SARSA algorithm---------------\n",
      "\n",
      "\n",
      "Optimal policy is\n",
      " 0->UP,1->RIGHT,2->DOWN,3->LEFT,-1->CLIFF\n",
      "[[ 1.  1.  1.  1.  1.  1.  1.  1.  1.  1.  1.  2.]\n",
      " [ 0.  0.  0.  1.  0.  0.  0.  1.  1.  1.  1.  2.]\n",
      " [ 0.  1.  0.  0.  0.  0.  3.  1.  0.  0.  1.  2.]\n",
      " [ 0.  0.  0.  0.  0.  0.  0.  0.  0.  0.  0. nan]]\n",
      "\n",
      "Optimal Action value function is\n",
      "{0: -16.504577379221573, 1: -15.193529943219295, 2: -13.696671227913718, 3: -12.215740458754015, 4: -10.997489493413553, 5: -10.192664137049317, 6: -9.753146121707776, 7: -8.759668987709734, 8: -7.34954530959299, 9: -5.705345023062321, 10: -4.108033430598971, 11: -3.243306283857765, 12: -17.62230422551239, 13: -16.60647275840976, 14: -15.355874550673573, 15: -13.789542514673293, 16: -13.130905838223015, 17: -11.98977213567337, 18: -10.028448869058053, 19: -6.772337059934731, 20: -5.4281756991928765, 21: -4.2747199259536135, 22: -3.46829263603066, 23: -2.207361452763465, 24: -18.663811038345983, 25: -16.523919844399412, 26: -15.794804238139886, 27: -10.371429546681611, 28: -12.958873942913506, 29: -12.93760282253473, 30: -10.881739839597582, 31: -7.126277580917787, 32: -6.361208693906454, 33: -6.112875272393465, 34: -2.0008437723020585, 35: -1.0, 36: -19.9120081688151, 37: 0, 38: 0, 39: 0, 40: 0, 41: 0, 42: 0, 43: 0, 44: 0, 45: 0, 46: 0, 47: 0}\n"
     ]
    },
    {
     "data": {
      "image/png": "[encoded data removed]",
      "text/plain": [
       "<Figure size 720x360 with 1 Axes>"
      ]
     },
     "metadata": {},
     "output_type": "display_data"
    }
   ],
   "source": [
    "episodes = 200\n",
    "Q_q, stats_q, rollout_stats_q = q_learning(env, episodes, epsilon=0.1)\n",
    "Q_sarsa, stats_sarsa = sarsa(env, episodes, epsilon=0.1)\n",
    "plot_episode_reward(['Q-Learning','SARSA'],[stats_q, stats_sarsa])"
   ]
  },
  {
   "cell_type": "markdown",
   "id": "27db3fb7-07b8-4e16-b8ba-74970b464504",
   "metadata": {
    "id": "27db3fb7-07b8-4e16-b8ba-74970b464504"
   },
   "source": [
    "### Visualizing the policy"
   ]
  },
  {
   "cell_type": "code",
   "execution_count": 54,
   "id": "7f5a008b-4945-4663-9c3f-8296a7d8289e",
   "metadata": {
    "id": "7f5a008b-4945-4663-9c3f-8296a7d8289e"
   },
   "outputs": [
    {
     "name": "stdout",
     "output_type": "stream",
     "text": [
      "[0. 0. 0. 0. 0. 0. 0. 0. 0. 0. 0. 0. 0. 0. 0. 0. 0. 0. 0. 0. 0. 0. 0. 0.\n",
      " 0. 0. 0. 0. 0. 0. 0. 0. 0. 0. 0. 0. 0. 0. 0. 0. 0. 0. 0. 0. 0. 0. 0. 0.]\n",
      "SARSA policy:\n"
     ]
    },
    {
     "ename": "AttributeError",
     "evalue": "'CliffWalkingEnv' object has no attribute 'render_policy'",
     "output_type": "error",
     "traceback": [
      "\u001b[1;31m---------------------------------------------------------------------------\u001b[0m",
      "\u001b[1;31mAttributeError\u001b[0m                            Traceback (most recent call last)",
      "Input \u001b[1;32mIn [54]\u001b[0m, in \u001b[0;36m<cell line: 14>\u001b[1;34m()\u001b[0m\n\u001b[0;32m     11\u001b[0m \u001b[38;5;66;03m# print(pi_sarsa)\u001b[39;00m\n\u001b[0;32m     13\u001b[0m \u001b[38;5;28mprint\u001b[39m(\u001b[38;5;124m'\u001b[39m\u001b[38;5;124mSARSA policy:\u001b[39m\u001b[38;5;124m'\u001b[39m)\n\u001b[1;32m---> 14\u001b[0m \u001b[43menv\u001b[49m\u001b[38;5;241;43m.\u001b[39;49m\u001b[43mrender_policy\u001b[49m(pi_sarsa)\n\u001b[0;32m     15\u001b[0m \u001b[38;5;28mprint\u001b[39m(\u001b[38;5;124m'\u001b[39m\u001b[38;5;124mQ-learning policy:\u001b[39m\u001b[38;5;124m'\u001b[39m)\n\u001b[0;32m     16\u001b[0m env\u001b[38;5;241m.\u001b[39mrender_policy(pi_q)\n",
      "File \u001b[1;32m~\\anaconda3\\lib\\site-packages\\gym\\core.py:238\u001b[0m, in \u001b[0;36mWrapper.__getattr__\u001b[1;34m(self, name)\u001b[0m\n\u001b[0;32m    234\u001b[0m \u001b[38;5;28;01mif\u001b[39;00m name\u001b[38;5;241m.\u001b[39mstartswith(\u001b[38;5;124m\"\u001b[39m\u001b[38;5;124m_\u001b[39m\u001b[38;5;124m\"\u001b[39m):\n\u001b[0;32m    235\u001b[0m     \u001b[38;5;28;01mraise\u001b[39;00m \u001b[38;5;167;01mAttributeError\u001b[39;00m(\n\u001b[0;32m    236\u001b[0m         \u001b[38;5;124m\"\u001b[39m\u001b[38;5;124mattempted to get missing private attribute \u001b[39m\u001b[38;5;124m'\u001b[39m\u001b[38;5;132;01m{}\u001b[39;00m\u001b[38;5;124m'\u001b[39m\u001b[38;5;124m\"\u001b[39m\u001b[38;5;241m.\u001b[39mformat(name)\n\u001b[0;32m    237\u001b[0m     )\n\u001b[1;32m--> 238\u001b[0m \u001b[38;5;28;01mreturn\u001b[39;00m \u001b[38;5;28;43mgetattr\u001b[39;49m\u001b[43m(\u001b[49m\u001b[38;5;28;43mself\u001b[39;49m\u001b[38;5;241;43m.\u001b[39;49m\u001b[43menv\u001b[49m\u001b[43m,\u001b[49m\u001b[43m \u001b[49m\u001b[43mname\u001b[49m\u001b[43m)\u001b[49m\n",
      "\u001b[1;31mAttributeError\u001b[0m: 'CliffWalkingEnv' object has no attribute 'render_policy'"
     ]
    }
   ],
   "source": [
    "# extracting greedy policy from the Q function\n",
    "pi_sarsa = np.zeros(env.observation_space.n)\n",
    "print(pi_sarsa)\n",
    "pi_q = np.zeros(env.observation_space.n)\n",
    "for s in range(env.observation_space.n):\n",
    "    pi_sarsa[s] = np.argmax(Q_sarsa[s])\n",
    "    pi_q[s] = np.argmax(Q_q[s])\n",
    "    \n",
    "pi_sarsa = np.reshape(pi_sarsa, env.shape)\n",
    "pi_q = np.reshape(pi_q, env.shape)\n",
    "# print(pi_sarsa)\n",
    "\n",
    "print('SARSA policy:')\n",
    "env.render_policy(pi_sarsa)\n",
    "print('Q-learning policy:')\n",
    "env.render_policy(pi_q)"
   ]
  },
  {
   "cell_type": "code",
   "execution_count": 55,
   "id": "05d7c71d",
   "metadata": {},
   "outputs": [
    {
     "data": {
      "text/plain": [
       "48"
      ]
     },
     "execution_count": 55,
     "metadata": {},
     "output_type": "execute_result"
    }
   ],
   "source": [
    "env.observation_space.n"
   ]
  },
  {
   "cell_type": "code",
   "execution_count": null,
   "id": "8b110e3d",
   "metadata": {},
   "outputs": [],
   "source": []
  }
 ],
 "metadata": {
  "colab": {
   "provenance": []
  },
  "kernelspec": {
   "display_name": "Python 3 (ipykernel)",
   "language": "python",
   "name": "python3"
  },
  "language_info": {
   "codemirror_mode": {
    "name": "ipython",
    "version": 3
   },
   "file_extension": ".py",
   "mimetype": "text/x-python",
   "name": "python",
   "nbconvert_exporter": "python",
   "pygments_lexer": "ipython3",
   "version": "3.9.13"
  }
 },
 "nbformat": 4,
 "nbformat_minor": 5
}
